{
 "cells": [
  {
   "cell_type": "code",
   "execution_count": 1,
   "metadata": {
    "collapsed": true
   },
   "outputs": [],
   "source": [
    "%matplotlib inline\n",
    "from q_function import Q\n",
    "import numpy as np\n",
    "import matplotlib.pyplot as plt"
   ]
  },
  {
   "cell_type": "markdown",
   "metadata": {},
   "source": [
    "\n",
    "## Define the grid and actions\n",
    "\n",
    "Let $S$ be the grid and $A$ be a set of actions.\n",
    "Our goal is to train a function $Q:S\\times A\\to R$, that rates state action pairs such that we can use it to always find the best action for every state we're in.\n",
    "\n",
    "The grid consists of $10 \\times 10$ cells, whereall but four are 'dangerous' and the other four are 'safe'."
   ]
  },
  {
   "cell_type": "code",
   "execution_count": 2,
   "metadata": {},
   "outputs": [
    {
     "data": {
      "text/plain": [
       "<matplotlib.image.AxesImage at 0x7f0245f60cf8>"
      ]
     },
     "execution_count": 2,
     "metadata": {},
     "output_type": "execute_result"
    },
    {
     "data": {
      "image/png": "[encoded data removed]",
      "text/plain": [
       "<matplotlib.figure.Figure at 0x7f02707c40f0>"
      ]
     },
     "metadata": {},
     "output_type": "display_data"
    }
   ],
   "source": [
    "grid = np.ones((10, 10)) * -1\n",
    "\n",
    "grid[1, 1] = 1\n",
    "grid[1, 8] = 1\n",
    "grid[5, 6] = 1\n",
    "grid[8, 2] = 1\n",
    "\n",
    "plt.imshow(grid)"
   ]
  },
  {
   "cell_type": "code",
   "execution_count": 3,
   "metadata": {
    "collapsed": true
   },
   "outputs": [],
   "source": [
    "def check(acfunc):\n",
    "    def wrapper(arg):\n",
    "        retval = acfunc(arg)\n",
    "        for ind in range(2):\n",
    "            if retval[ind] < 0:\n",
    "                retval[ind] = 0\n",
    "            if retval[ind] > 9:\n",
    "                retval[ind] = 9\n",
    "        return retval\n",
    "    return wrapper\n",
    "\n",
    "up = lambda state : state + np.array([-1, 0])\n",
    "down = lambda state : state + np.array([1, 0])\n",
    "left = lambda state : state + np.array([0, -1])\n",
    "right = lambda state : state + np.array([0, 1])\n",
    "stand = lambda state : state\n",
    "\n",
    "actions = {'up' : check(up), \n",
    "           'down' : check(down), \n",
    "           'left' : check(left), \n",
    "           'right': check(right), \n",
    "           'stand' : stand}"
   ]
  },
  {
   "cell_type": "code",
   "execution_count": 4,
   "metadata": {},
   "outputs": [
    {
     "data": {
      "image/png": "[encoded data removed]",
      "text/plain": [
       "<matplotlib.figure.Figure at 0x7f0270786cf8>"
      ]
     },
     "metadata": {},
     "output_type": "display_data"
    }
   ],
   "source": [
    "cur = np.array([5, 4])\n",
    "grid[cur[0], cur[1]] = .5\n",
    "\n",
    "plt.subplot(1, 2, 1)\n",
    "plt.title('Current')\n",
    "plt.imshow(grid)\n",
    "grid[cur[0], cur[1]] = -1\n",
    "\n",
    "nex = actions['up'](cur)\n",
    "grid[nex[0], nex[1]] = .5\n",
    "\n",
    "plt.subplot(1, 2, 2)\n",
    "plt.title('Current + up')\n",
    "plt.imshow(grid)\n",
    "grid[nex[0], nex[1]] = -1\n",
    "\n"
   ]
  },
  {
   "cell_type": "markdown",
   "metadata": {},
   "source": [
    "## Define the policy $\\pi(s)$, a complete run and the loss\n",
    "\n",
    "The policy decides given a state what the appropriate action should be:\n",
    "\n",
    "$\\pi(s) \\mapsto a$\n",
    "\n",
    "$\\DeclareMathOperator*{\\argmax}{argmax}$\n",
    "To decide the appropriate action it uses the Q function to estimate the reward:\n",
    "\n",
    "$\\pi(s) := \\argmax_a Q(s, a)$\n",
    "\n",
    "In our experiment the agent starts at an initial position $s_0$ and a run consists of him doing ten actions.\n",
    "The run is then defined as the sum of the rewards from those ten actions:\n",
    "\n",
    "\n",
    "$R(Q, s_0) = \\sum_{t=0}^N reward(s_t, \\pi(s_t))$\n",
    "\n",
    "\n",
    "The loss is defined as the sum of runs for all possible states:\n",
    "\n",
    "$L(Q) = \\sum_{s\\in S} R(Q, s)$\n"
   ]
  },
  {
   "cell_type": "code",
   "execution_count": 5,
   "metadata": {
    "collapsed": true
   },
   "outputs": [],
   "source": [
    "q = Q()\n",
    "states = np.array([np.array([x, y]) for x in range(10) for y in range(10)])\n",
    "\n",
    "def pi(state):\n",
    "    \"\"\" state -> action, Q(state, action)   \"\"\"\n",
    "    expected_values = np.array([q(state, action) for action in actions.keys()])\n",
    "    argmax = np.argmax(expected_values)\n",
    "    return list(actions.keys())[argmax], expected_values[argmax]\n",
    "\n",
    "def run(init_state, train=True, lr=.1, gamma=.9):\n",
    "    \"\"\" state_0 -> sigma_0^N Q(state_i, action_i)\"\"\"\n",
    "    state = init_state\n",
    "    G = 0\n",
    "    for step in range(10):\n",
    "        next_state = actions[pi(state)[0]](state)\n",
    "        reward = grid[next_state[0], next_state[1]]\n",
    "        G += reward\n",
    "        if train:\n",
    "            action = pi(state)[0]\n",
    "            qval = (1-lr) * q(state, action) + lr * (reward + gamma * pi(next_state)[1])\n",
    "            q.update(state, action, qval)\n",
    "        state = next_state\n",
    "    return G\n",
    "                \n",
    "def loss():\n",
    "    \"\"\" sigma_{state in possibleStates} run(state)\"\"\"\n",
    "    total = 0\n",
    "    for init_state in states:\n",
    "        total += run(init_state, train=False)\n",
    "    return -total"
   ]
  },
  {
   "cell_type": "markdown",
   "metadata": {},
   "source": [
    "## Train the Q function\n",
    "\n",
    "We train the Q function by performing thousend runs and updating its state, action ratings using this formula:\n",
    "https://en.wikipedia.org/wiki/Q-learning\n",
    "\n",
    "$$Q(s_t, a_t) \\leftarrow (1-\\alpha)\\cdot Q(s_t, a_t) + \\alpha \\left(r_{t+1} + \\gamma \\cdot \\max_a Q(s_{t+1}, a)\\right)$$\n",
    "\n",
    "The initial state for the runs are choosen at random.\n",
    "We also compute the loss every ten runs in order to visualize the training progress."
   ]
  },
  {
   "cell_type": "code",
   "execution_count": 33,
   "metadata": {},
   "outputs": [],
   "source": [
    "nofsteps = 1000\n",
    "lossstep = 10\n",
    "\n",
    "iters = np.array([])\n",
    "losses = np.array([])\n",
    "\n",
    "q.reset()\n",
    "for iteration in range(nofsteps):\n",
    "    init_state = states[np.random.randint(0 , len(states))]\n",
    "    run(init_state)\n",
    "    if iteration % lossstep == 0:\n",
    "        iters = np.append(iters, [iteration])\n",
    "        losses = np.append(losses, [loss()])"
   ]
  },
  {
   "cell_type": "code",
   "execution_count": 34,
   "metadata": {},
   "outputs": [
    {
     "data": {
      "text/plain": [
       "<matplotlib.text.Text at 0x7f0245ea04a8>"
      ]
     },
     "execution_count": 34,
     "metadata": {},
     "output_type": "execute_result"
    },
    {
     "data": {
      "image/png": "[encoded data removed]",
      "text/plain": [
       "<matplotlib.figure.Figure at 0x7f0244991390>"
      ]
     },
     "metadata": {},
     "output_type": "display_data"
    }
   ],
   "source": [
    "plt.plot(iters, losses, label='Q Training Loss')\n",
    "plt.legend()\n",
    "plt.xlabel('Iterations')\n",
    "plt.ylabel('Loss')"
   ]
  },
  {
   "cell_type": "markdown",
   "metadata": {
    "collapsed": true
   },
   "source": [
    "## Result\n",
    "\n",
    "We trained our Q function until the loss appeared to be in its minimum.\n",
    "As a final check we define an initial state in the bottom right corner.\n",
    "We know that the optimal behaviour would be to go to the next safe zone in five steps and then stay there.\n",
    "Let's see if our Q function agrees."
   ]
  },
  {
   "cell_type": "code",
   "execution_count": 46,
   "metadata": {},
   "outputs": [
    {
     "data": {
      "image/png": "[encoded data removed]",
      "text/plain": [
       "<matplotlib.figure.Figure at 0x7f02445b40b8>"
      ]
     },
     "metadata": {},
     "output_type": "display_data"
    }
   ],
   "source": [
    "plt.subplot(1, 2, 1)\n",
    "ini = np.array([8, 8])\n",
    "plt.title('Init State')\n",
    "grid[ini[0], ini[1]] = 0\n",
    "plt.imshow(grid)\n",
    "grid[ini[0], ini[1]] = -1\n"
   ]
  },
  {
   "cell_type": "code",
   "execution_count": 48,
   "metadata": {},
   "outputs": [
    {
     "name": "stdout",
     "output_type": "stream",
     "text": [
      "left\n",
      "up\n",
      "up\n",
      "left\n",
      "up\n",
      "stand\n",
      "stand\n",
      "stand\n",
      "stand\n",
      "stand\n"
     ]
    }
   ],
   "source": [
    "state = ini\n",
    "for step in range(10):\n",
    "    print(pi(state)[0])\n",
    "    state = actions[pi(state)[0]](state)"
   ]
  }
 ],
 "metadata": {
  "kernelspec": {
   "display_name": "Python 3",
   "language": "python",
   "name": "python3"
  },
  "language_info": {
   "codemirror_mode": {
    "name": "ipython",
    "version": 3
   },
   "file_extension": ".py",
   "mimetype": "text/x-python",
   "name": "python",
   "nbconvert_exporter": "python",
   "pygments_lexer": "ipython3",
   "version": "3.6.1"
  }
 },
 "nbformat": 4,
 "nbformat_minor": 2
}

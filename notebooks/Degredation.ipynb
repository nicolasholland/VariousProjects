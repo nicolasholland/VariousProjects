{
 "cells": [
  {
   "cell_type": "markdown",
   "id": "alpine-alloy",
   "metadata": {},
   "source": [
    "# Degredation of simulated plant\n",
    "\n",
    "We simulate a PV power plant, add some simple artificial degredation and use rdtools to then find that degredation."
   ]
  },
  {
   "cell_type": "code",
   "execution_count": 1,
   "id": "killing-cosmetic",
   "metadata": {},
   "outputs": [],
   "source": [
    "import rdtools\n",
    "import numpy as np\n",
    "import pandas as pd\n",
    "import matplotlib.pyplot as plt\n",
    "\n",
    "import seaborn as sns;sns.set_style(\"whitegrid\")\n",
    "\n",
    "import pvlib"
   ]
  },
  {
   "cell_type": "markdown",
   "id": "fifth-diesel",
   "metadata": {},
   "source": [
    "## Weather\n",
    "\n",
    "Use simulated weather data from www.renewables.ninja"
   ]
  },
  {
   "cell_type": "code",
   "execution_count": 2,
   "id": "considered-valentine",
   "metadata": {},
   "outputs": [
    {
     "data": {
      "text/html": [
       "<div>\n",
       "<style scoped>\n",
       "    .dataframe tbody tr th:only-of-type {\n",
       "        vertical-align: middle;\n",
       "    }\n",
       "\n",
       "    .dataframe tbody tr th {\n",
       "        vertical-align: top;\n",
       "    }\n",
       "\n",
       "    .dataframe thead th {\n",
       "        text-align: right;\n",
       "    }\n",
       "</style>\n",
       "<table border=\"1\" class=\"dataframe\">\n",
       "  <thead>\n",
       "    <tr style=\"text-align: right;\">\n",
       "      <th></th>\n",
       "      <th>Tamb</th>\n",
       "      <th>ghi</th>\n",
       "      <th>wind_speed</th>\n",
       "    </tr>\n",
       "    <tr>\n",
       "      <th>time</th>\n",
       "      <th></th>\n",
       "      <th></th>\n",
       "      <th></th>\n",
       "    </tr>\n",
       "  </thead>\n",
       "  <tbody>\n",
       "    <tr>\n",
       "      <th>2019-01-01 00:00:00</th>\n",
       "      <td>5.809</td>\n",
       "      <td>0.0</td>\n",
       "      <td>7.812</td>\n",
       "    </tr>\n",
       "    <tr>\n",
       "      <th>2019-01-01 01:00:00</th>\n",
       "      <td>5.723</td>\n",
       "      <td>0.0</td>\n",
       "      <td>7.719</td>\n",
       "    </tr>\n",
       "    <tr>\n",
       "      <th>2019-01-01 02:00:00</th>\n",
       "      <td>5.646</td>\n",
       "      <td>0.0</td>\n",
       "      <td>7.679</td>\n",
       "    </tr>\n",
       "    <tr>\n",
       "      <th>2019-01-01 03:00:00</th>\n",
       "      <td>5.371</td>\n",
       "      <td>0.0</td>\n",
       "      <td>7.777</td>\n",
       "    </tr>\n",
       "    <tr>\n",
       "      <th>2019-01-01 04:00:00</th>\n",
       "      <td>5.121</td>\n",
       "      <td>0.0</td>\n",
       "      <td>7.888</td>\n",
       "    </tr>\n",
       "  </tbody>\n",
       "</table>\n",
       "</div>"
      ],
      "text/plain": [
       "                      Tamb  ghi  wind_speed\n",
       "time                                       \n",
       "2019-01-01 00:00:00  5.809  0.0       7.812\n",
       "2019-01-01 01:00:00  5.723  0.0       7.719\n",
       "2019-01-01 02:00:00  5.646  0.0       7.679\n",
       "2019-01-01 03:00:00  5.371  0.0       7.777\n",
       "2019-01-01 04:00:00  5.121  0.0       7.888"
      ]
     },
     "execution_count": 2,
     "metadata": {},
     "output_type": "execute_result"
    }
   ],
   "source": [
    "def _read(n):\n",
    "    df = pd.read_csv(n, comment=\"#\")\n",
    "    df = df.set_index(pd.DatetimeIndex(df.time))\n",
    "    df = df.drop([\"time\", \"local_time\"], axis=1)\n",
    "    return df\n",
    "\n",
    " \n",
    "df =_read(\"data/ninja_weather_40.5278_19.5263_uncorrected.csv\").join(\n",
    "    _read(\"data/ninja_wind_40.5278_19.5263_corrected.csv\")).drop(\n",
    "    \"electricity\", axis=1).rename(columns={\n",
    "    \"temperature\" : \"Tamb\", \"radiation_surface\": \"ghi\"\n",
    "})\n",
    "\n",
    "\n",
    "location = pvlib.location.Location(\n",
    "    40.5278, 19.5263, 'Europe/Tirane', 700, 'Tirane')\n",
    "df.head()"
   ]
  },
  {
   "cell_type": "code",
   "execution_count": 3,
   "id": "identical-farmer",
   "metadata": {},
   "outputs": [
    {
     "data": {
      "text/html": [
       "<div>\n",
       "<style scoped>\n",
       "    .dataframe tbody tr th:only-of-type {\n",
       "        vertical-align: middle;\n",
       "    }\n",
       "\n",
       "    .dataframe tbody tr th {\n",
       "        vertical-align: top;\n",
       "    }\n",
       "\n",
       "    .dataframe thead th {\n",
       "        text-align: right;\n",
       "    }\n",
       "</style>\n",
       "<table border=\"1\" class=\"dataframe\">\n",
       "  <thead>\n",
       "    <tr style=\"text-align: right;\">\n",
       "      <th></th>\n",
       "      <th>Tamb</th>\n",
       "      <th>ghi</th>\n",
       "      <th>wind_speed</th>\n",
       "      <th>zenith</th>\n",
       "    </tr>\n",
       "    <tr>\n",
       "      <th>time</th>\n",
       "      <th></th>\n",
       "      <th></th>\n",
       "      <th></th>\n",
       "      <th></th>\n",
       "    </tr>\n",
       "  </thead>\n",
       "  <tbody>\n",
       "    <tr>\n",
       "      <th>2019-01-01 00:00:00</th>\n",
       "      <td>5.809</td>\n",
       "      <td>0.0</td>\n",
       "      <td>7.812</td>\n",
       "      <td>2.730673</td>\n",
       "    </tr>\n",
       "    <tr>\n",
       "      <th>2019-01-01 01:00:00</th>\n",
       "      <td>5.723</td>\n",
       "      <td>0.0</td>\n",
       "      <td>7.719</td>\n",
       "      <td>2.560895</td>\n",
       "    </tr>\n",
       "    <tr>\n",
       "      <th>2019-01-01 02:00:00</th>\n",
       "      <td>5.646</td>\n",
       "      <td>0.0</td>\n",
       "      <td>7.679</td>\n",
       "      <td>2.368539</td>\n",
       "    </tr>\n",
       "    <tr>\n",
       "      <th>2019-01-01 03:00:00</th>\n",
       "      <td>5.371</td>\n",
       "      <td>0.0</td>\n",
       "      <td>7.777</td>\n",
       "      <td>2.170073</td>\n",
       "    </tr>\n",
       "    <tr>\n",
       "      <th>2019-01-01 04:00:00</th>\n",
       "      <td>5.121</td>\n",
       "      <td>0.0</td>\n",
       "      <td>7.888</td>\n",
       "      <td>1.972732</td>\n",
       "    </tr>\n",
       "  </tbody>\n",
       "</table>\n",
       "</div>"
      ],
      "text/plain": [
       "                      Tamb  ghi  wind_speed    zenith\n",
       "time                                                 \n",
       "2019-01-01 00:00:00  5.809  0.0       7.812  2.730673\n",
       "2019-01-01 01:00:00  5.723  0.0       7.719  2.560895\n",
       "2019-01-01 02:00:00  5.646  0.0       7.679  2.368539\n",
       "2019-01-01 03:00:00  5.371  0.0       7.777  2.170073\n",
       "2019-01-01 04:00:00  5.121  0.0       7.888  1.972732"
      ]
     },
     "execution_count": 3,
     "metadata": {},
     "output_type": "execute_result"
    }
   ],
   "source": [
    "df = df.join(np.radians(\n",
    "    location.get_solarposition(df.index)[[\"zenith\"]]))\n",
    "df.head()"
   ]
  },
  {
   "cell_type": "code",
   "execution_count": 4,
   "id": "detected-salmon",
   "metadata": {},
   "outputs": [
    {
     "data": {
      "text/html": [
       "<div>\n",
       "<style scoped>\n",
       "    .dataframe tbody tr th:only-of-type {\n",
       "        vertical-align: middle;\n",
       "    }\n",
       "\n",
       "    .dataframe tbody tr th {\n",
       "        vertical-align: top;\n",
       "    }\n",
       "\n",
       "    .dataframe thead th {\n",
       "        text-align: right;\n",
       "    }\n",
       "</style>\n",
       "<table border=\"1\" class=\"dataframe\">\n",
       "  <thead>\n",
       "    <tr style=\"text-align: right;\">\n",
       "      <th></th>\n",
       "      <th>Tamb</th>\n",
       "      <th>ghi</th>\n",
       "      <th>wind_speed</th>\n",
       "      <th>zenith</th>\n",
       "      <th>dni</th>\n",
       "      <th>dhi</th>\n",
       "    </tr>\n",
       "    <tr>\n",
       "      <th>time</th>\n",
       "      <th></th>\n",
       "      <th></th>\n",
       "      <th></th>\n",
       "      <th></th>\n",
       "      <th></th>\n",
       "      <th></th>\n",
       "    </tr>\n",
       "  </thead>\n",
       "  <tbody>\n",
       "    <tr>\n",
       "      <th>2019-01-01 00:00:00</th>\n",
       "      <td>5.809</td>\n",
       "      <td>0.0</td>\n",
       "      <td>7.812</td>\n",
       "      <td>2.730673</td>\n",
       "      <td>NaN</td>\n",
       "      <td>NaN</td>\n",
       "    </tr>\n",
       "    <tr>\n",
       "      <th>2019-01-01 01:00:00</th>\n",
       "      <td>5.723</td>\n",
       "      <td>0.0</td>\n",
       "      <td>7.719</td>\n",
       "      <td>2.560895</td>\n",
       "      <td>NaN</td>\n",
       "      <td>NaN</td>\n",
       "    </tr>\n",
       "    <tr>\n",
       "      <th>2019-01-01 02:00:00</th>\n",
       "      <td>5.646</td>\n",
       "      <td>0.0</td>\n",
       "      <td>7.679</td>\n",
       "      <td>2.368539</td>\n",
       "      <td>NaN</td>\n",
       "      <td>NaN</td>\n",
       "    </tr>\n",
       "    <tr>\n",
       "      <th>2019-01-01 03:00:00</th>\n",
       "      <td>5.371</td>\n",
       "      <td>0.0</td>\n",
       "      <td>7.777</td>\n",
       "      <td>2.170073</td>\n",
       "      <td>NaN</td>\n",
       "      <td>NaN</td>\n",
       "    </tr>\n",
       "    <tr>\n",
       "      <th>2019-01-01 04:00:00</th>\n",
       "      <td>5.121</td>\n",
       "      <td>0.0</td>\n",
       "      <td>7.888</td>\n",
       "      <td>1.972732</td>\n",
       "      <td>NaN</td>\n",
       "      <td>NaN</td>\n",
       "    </tr>\n",
       "  </tbody>\n",
       "</table>\n",
       "</div>"
      ],
      "text/plain": [
       "                      Tamb  ghi  wind_speed    zenith  dni  dhi\n",
       "time                                                           \n",
       "2019-01-01 00:00:00  5.809  0.0       7.812  2.730673  NaN  NaN\n",
       "2019-01-01 01:00:00  5.723  0.0       7.719  2.560895  NaN  NaN\n",
       "2019-01-01 02:00:00  5.646  0.0       7.679  2.368539  NaN  NaN\n",
       "2019-01-01 03:00:00  5.371  0.0       7.777  2.170073  NaN  NaN\n",
       "2019-01-01 04:00:00  5.121  0.0       7.888  1.972732  NaN  NaN"
      ]
     },
     "execution_count": 4,
     "metadata": {},
     "output_type": "execute_result"
    }
   ],
   "source": [
    "dni = pvlib.irradiance.dirint(\n",
    "    df.ghi,\n",
    "    location.get_solarposition(df.index).apparent_zenith,\n",
    "    df.index)\n",
    "\n",
    "df = df.join(dni).join(\n",
    "    pd.Series(df.ghi - np.cos(df.zenith) * dni, name=\"dhi\"))\n",
    "df.head()"
   ]
  },
  {
   "cell_type": "markdown",
   "id": "simple-honey",
   "metadata": {},
   "source": [
    "## Simulate plant\n",
    "\n",
    "Simulate a simple 20° tilt, south oriented plant using the simulated weather data."
   ]
  },
  {
   "cell_type": "code",
   "execution_count": 5,
   "id": "advisory-bookmark",
   "metadata": {},
   "outputs": [
    {
     "data": {
      "text/plain": [
       "PVSystem:\n",
       "  name: None\n",
       "  surface_tilt: 20\n",
       "  surface_azimuth: 180\n",
       "  module: None\n",
       "  inverter: None\n",
       "  albedo: 0.25\n",
       "  racking_model: None\n",
       "  module_type: None\n",
       "  temperature_model_parameters: {}"
      ]
     },
     "execution_count": 5,
     "metadata": {},
     "output_type": "execute_result"
    }
   ],
   "source": [
    "sandia_modules = pvlib.pvsystem.retrieve_sam('SandiaMod')\n",
    "cec_inverters = pvlib.pvsystem.retrieve_sam('cecinverter')\n",
    "module = sandia_modules[sandia_modules.columns[5]]\n",
    "inverter = cec_inverters[cec_inverters.columns[4]]\n",
    "\n",
    "\n",
    "system = pvlib.pvsystem.PVSystem(\n",
    "    surface_tilt=20, surface_azimuth=180,\n",
    "    module_parameters=module,\n",
    "    inverter_parameters=inverter)\n",
    "system"
   ]
  },
  {
   "cell_type": "code",
   "execution_count": 6,
   "id": "interstate-berkeley",
   "metadata": {},
   "outputs": [
    {
     "name": "stderr",
     "output_type": "stream",
     "text": [
      "/home/dutchman/miniconda3/lib/python3.9/site-packages/pvlib/pvsystem.py:478: pvlibDeprecationWarning: temperature_model_parameters, racking_model, and module_type are not specified. Reverting to deprecated default: SAPM cell temperature model parameters for a glass/glass module in open racking. In v0.9, temperature_model_parameters or a valid combination of racking_model and module_type will be required.\n",
      "  warnings.warn(\n"
     ]
    },
    {
     "data": {
      "text/plain": [
       "ModelChain: \n",
       "  name: None\n",
       "  orientation_strategy: None\n",
       "  clearsky_model: ineichen\n",
       "  transposition_model: haydavies\n",
       "  solar_position_method: nrel_numpy\n",
       "  airmass_model: kastenyoung1989\n",
       "  dc_model: sapm\n",
       "  ac_model: snlinverter\n",
       "  aoi_model: sapm_aoi_loss\n",
       "  spectral_model: sapm_spectral_loss\n",
       "  temperature_model: sapm_temp\n",
       "  losses_model: no_extra_losses"
      ]
     },
     "execution_count": 6,
     "metadata": {},
     "output_type": "execute_result"
    }
   ],
   "source": [
    "mc = pvlib.modelchain.ModelChain(system, location)\n",
    "mc.run_model(weather=df)"
   ]
  },
  {
   "cell_type": "code",
   "execution_count": 7,
   "id": "typical-equity",
   "metadata": {},
   "outputs": [
    {
     "data": {
      "text/plain": [
       "Text(0, 0.5, 'AC Power [W]')"
      ]
     },
     "execution_count": 7,
     "metadata": {},
     "output_type": "execute_result"
    },
    {
     "data": {
      "image/png": "[encoded data removed]",
      "text/plain": [
       "<Figure size 432x288 with 1 Axes>"
      ]
     },
     "metadata": {},
     "output_type": "display_data"
    }
   ],
   "source": [
    "mc.ac.plot()\n",
    "plt.ylabel(\"AC Power [W]\")"
   ]
  },
  {
   "cell_type": "markdown",
   "id": "hundred-secret",
   "metadata": {},
   "source": [
    "## Create multiple years of data\n",
    "\n",
    "Repeat the same year of simulated data but reducing the AC output every year by ~1%."
   ]
  },
  {
   "cell_type": "code",
   "execution_count": 41,
   "id": "concerned-culture",
   "metadata": {},
   "outputs": [
    {
     "data": {
      "text/html": [
       "<div>\n",
       "<style scoped>\n",
       "    .dataframe tbody tr th:only-of-type {\n",
       "        vertical-align: middle;\n",
       "    }\n",
       "\n",
       "    .dataframe tbody tr th {\n",
       "        vertical-align: top;\n",
       "    }\n",
       "\n",
       "    .dataframe thead th {\n",
       "        text-align: right;\n",
       "    }\n",
       "</style>\n",
       "<table border=\"1\" class=\"dataframe\">\n",
       "  <thead>\n",
       "    <tr style=\"text-align: right;\">\n",
       "      <th></th>\n",
       "      <th>Tamb</th>\n",
       "      <th>ghi</th>\n",
       "      <th>wind_speed</th>\n",
       "      <th>zenith</th>\n",
       "      <th>dni</th>\n",
       "      <th>dhi</th>\n",
       "      <th>power_ac</th>\n",
       "      <th>poa</th>\n",
       "    </tr>\n",
       "  </thead>\n",
       "  <tbody>\n",
       "    <tr>\n",
       "      <th>2015-01-01 00:00:00</th>\n",
       "      <td>5.809</td>\n",
       "      <td>0.0</td>\n",
       "      <td>7.812</td>\n",
       "      <td>2.730673</td>\n",
       "      <td>NaN</td>\n",
       "      <td>NaN</td>\n",
       "      <td>NaN</td>\n",
       "      <td>NaN</td>\n",
       "    </tr>\n",
       "    <tr>\n",
       "      <th>2015-01-01 01:00:00</th>\n",
       "      <td>5.723</td>\n",
       "      <td>0.0</td>\n",
       "      <td>7.719</td>\n",
       "      <td>2.560895</td>\n",
       "      <td>NaN</td>\n",
       "      <td>NaN</td>\n",
       "      <td>NaN</td>\n",
       "      <td>NaN</td>\n",
       "    </tr>\n",
       "    <tr>\n",
       "      <th>2015-01-01 02:00:00</th>\n",
       "      <td>5.646</td>\n",
       "      <td>0.0</td>\n",
       "      <td>7.679</td>\n",
       "      <td>2.368539</td>\n",
       "      <td>NaN</td>\n",
       "      <td>NaN</td>\n",
       "      <td>NaN</td>\n",
       "      <td>NaN</td>\n",
       "    </tr>\n",
       "    <tr>\n",
       "      <th>2015-01-01 03:00:00</th>\n",
       "      <td>5.371</td>\n",
       "      <td>0.0</td>\n",
       "      <td>7.777</td>\n",
       "      <td>2.170073</td>\n",
       "      <td>NaN</td>\n",
       "      <td>NaN</td>\n",
       "      <td>NaN</td>\n",
       "      <td>NaN</td>\n",
       "    </tr>\n",
       "    <tr>\n",
       "      <th>2015-01-01 04:00:00</th>\n",
       "      <td>5.121</td>\n",
       "      <td>0.0</td>\n",
       "      <td>7.888</td>\n",
       "      <td>1.972732</td>\n",
       "      <td>NaN</td>\n",
       "      <td>NaN</td>\n",
       "      <td>NaN</td>\n",
       "      <td>NaN</td>\n",
       "    </tr>\n",
       "  </tbody>\n",
       "</table>\n",
       "</div>"
      ],
      "text/plain": [
       "                      Tamb  ghi  wind_speed    zenith  dni  dhi  power_ac  poa\n",
       "2015-01-01 00:00:00  5.809  0.0       7.812  2.730673  NaN  NaN       NaN  NaN\n",
       "2015-01-01 01:00:00  5.723  0.0       7.719  2.560895  NaN  NaN       NaN  NaN\n",
       "2015-01-01 02:00:00  5.646  0.0       7.679  2.368539  NaN  NaN       NaN  NaN\n",
       "2015-01-01 03:00:00  5.371  0.0       7.777  2.170073  NaN  NaN       NaN  NaN\n",
       "2015-01-01 04:00:00  5.121  0.0       7.888  1.972732  NaN  NaN       NaN  NaN"
      ]
     },
     "execution_count": 41,
     "metadata": {},
     "output_type": "execute_result"
    }
   ],
   "source": [
    "df2 = df.copy()\n",
    "df2 = df2.join(pd.Series(mc.ac, name=\"power_ac\"))\n",
    "df2 = df2.join(pd.Series(mc.total_irrad.poa_global, name=\"poa\"))\n",
    "\n",
    "\n",
    "def _gen_year(year, factor):\n",
    "    retval = df2.set_index(\n",
    "        pd.date_range(year, freq=\"1h\", periods=len(df2)))\n",
    "    retval[\"power_ac\"] *= factor\n",
    "    return retval\n",
    "\n",
    "_rand = lambda : (np.random.random() -.5) / 10\n",
    "\n",
    "years = []\n",
    "years.append(_gen_year(\"2015-01-01\", 1.0 - 1 * 0.01 + _rand()))\n",
    "years.append(_gen_year(\"2016-01-01\", 1.0 - 2 * 0.01 + _rand()))\n",
    "years.append(_gen_year(\"2017-01-01\", 1.0 - 3 * 0.01 + _rand()))\n",
    "years.append(_gen_year(\"2018-01-01\", 1.0 - 4 * 0.01 + _rand()))\n",
    "years.append(_gen_year(\"2019-01-01\", 1.0 - 5 * 0.01 + _rand()))\n",
    "years.append(_gen_year(\"2020-01-01\", 1.0 - 6 * 0.01 + _rand()))\n",
    "\n",
    "df2 = pd.concat(years)\n",
    "\n",
    "df2.head()"
   ]
  },
  {
   "cell_type": "markdown",
   "id": "alien-poland",
   "metadata": {},
   "source": [
    "## Degredation\n",
    "\n",
    "\n",
    "Here we simply run the code from this rdtools tutorial:\n",
    "https://rdtools.readthedocs.io/en/stable/examples/degradation_and_soiling_example_pvdaq_4.html#0:-Import-and-preliminary-calculations"
   ]
  },
  {
   "cell_type": "code",
   "execution_count": 9,
   "id": "rolled-breakfast",
   "metadata": {},
   "outputs": [
    {
     "data": {
      "image/png": "[encoded data removed]",
      "text/plain": [
       "<Figure size 288x216 with 1 Axes>"
      ]
     },
     "metadata": {},
     "output_type": "display_data"
    }
   ],
   "source": [
    "# Specify the Metadata\n",
    "meta = {\"latitude\": location.latitude,\n",
    "        \"longitude\": location.longitude,\n",
    "        \"timezone\": 'Etc/GMT+7',\n",
    "        \"gamma_pdc\": -0.005,\n",
    "        \"azimuth\": 180,\n",
    "        \"tilt\": 20,\n",
    "        \"power_dc_rated\": 1000.0,\n",
    "        \"temp_model_params\":\n",
    "        pvlib.temperature.TEMPERATURE_MODEL_PARAMETERS['sapm']['open_rack_glass_polymer']}\n",
    "\n",
    "loc = pvlib.location.Location(meta['latitude'], meta['longitude'], tz = meta['timezone'])\n",
    "\n",
    "# There is some missing data, but we can infer the frequency from\n",
    "# the first several data points\n",
    "freq = pd.infer_freq(df2.index[:10])\n",
    "\n",
    "# Then set the frequency of the dataframe.\n",
    "# It is recommended not to up- or downsample at this step\n",
    "# but rather to use interpolate to regularize the time series\n",
    "# to its dominant or underlying frequency. Interpolate is not\n",
    "# generally recommended for downsampling in this application.\n",
    "df2 = rdtools.interpolate(df2, freq)\n",
    "\n",
    "# Calculate cell temperature\n",
    "df2['Tcell'] = pvlib.temperature.sapm_cell(\n",
    "    df2.poa, df2.Tamb, df2.wind_speed, **meta['temp_model_params'])\n",
    "\n",
    "# plot the AC power time series\n",
    "fig, ax = plt.subplots(figsize=(4,3))\n",
    "ax.plot(df2.index, df2.power_ac, 'o', alpha=0.01)\n",
    "ax.set_ylim(0,1500)\n",
    "fig.autofmt_xdate()\n",
    "ax.set_ylabel('AC Power (W)');"
   ]
  },
  {
   "cell_type": "code",
   "execution_count": 10,
   "id": "steady-stone",
   "metadata": {},
   "outputs": [
    {
     "data": {
      "image/png": "[encoded data removed]",
      "text/plain": [
       "<Figure size 432x288 with 1 Axes>"
      ]
     },
     "metadata": {},
     "output_type": "display_data"
    }
   ],
   "source": [
    "# Calculate the expected power with a simple PVWatts DC model\n",
    "modeled_power = pvlib.pvsystem.pvwatts_dc(\n",
    "    df2['poa'], df2['Tcell'],\n",
    "    meta['power_dc_rated'],  meta['gamma_pdc'], 25.0 )\n",
    "\n",
    "# Calculate the normalization, the function also returns the relevant insolation for\n",
    "# each point in the normalized PV energy timeseries\n",
    "normalized, insolation = rdtools.normalize_with_expected_power(\n",
    "    df2['power_ac'], modeled_power, df2['poa'])\n",
    "\n",
    "df2['normalized'] = normalized\n",
    "df2['insolation'] = insolation\n",
    "\n",
    "# Plot the normalized power time series\n",
    "fig, ax = plt.subplots()\n",
    "ax.plot(normalized.index, normalized, 'o', alpha = 0.05)\n",
    "ax.set_ylim(0,2)\n",
    "fig.autofmt_xdate()\n",
    "ax.set_ylabel('Normalized energy');"
   ]
  },
  {
   "cell_type": "code",
   "execution_count": 11,
   "id": "brilliant-charles",
   "metadata": {},
   "outputs": [
    {
     "data": {
      "image/png": "[encoded data removed]",
      "text/plain": [
       "<Figure size 432x288 with 1 Axes>"
      ]
     },
     "metadata": {},
     "output_type": "display_data"
    }
   ],
   "source": [
    "# Calculate a collection of boolean masks that can be used\n",
    "# to filter the time series\n",
    "normalized_mask = rdtools.normalized_filter(df2['normalized'])\n",
    "poa_mask = rdtools.poa_filter(df2['poa'])\n",
    "tcell_mask = rdtools.tcell_filter(df2['Tcell'])\n",
    "# Note: This clipping mask may be disabled when you are sure the system is not\n",
    "# experiencing clipping due to high DC/AC ratio\n",
    "clip_mask = rdtools.clip_filter(df2['power_ac'])\n",
    "\n",
    "# filter the time series and keep only the columns needed for the\n",
    "# remaining steps\n",
    "filtered = df2[normalized_mask & poa_mask & tcell_mask & clip_mask]\n",
    "filtered = filtered[['insolation', 'normalized']]\n",
    "\n",
    "fig, ax = plt.subplots()\n",
    "ax.plot(filtered.index, filtered.normalized, 'o', alpha = 0.05)\n",
    "ax.set_ylim(0,2)\n",
    "fig.autofmt_xdate()\n",
    "ax.set_ylabel('Normalized energy');"
   ]
  },
  {
   "cell_type": "code",
   "execution_count": 12,
   "id": "vietnamese-parameter",
   "metadata": {},
   "outputs": [
    {
     "data": {
      "image/png": "[encoded data removed]",
      "text/plain": [
       "<Figure size 432x288 with 1 Axes>"
      ]
     },
     "metadata": {},
     "output_type": "display_data"
    }
   ],
   "source": [
    "daily = rdtools.aggregation_insol(\n",
    "    filtered.normalized, filtered.insolation, frequency = 'D')\n",
    "\n",
    "fig, ax = plt.subplots()\n",
    "ax.plot(daily.index, daily, 'o', alpha = 0.1)\n",
    "ax.set_ylim(0,2)\n",
    "fig.autofmt_xdate()\n",
    "ax.set_ylabel('Normalized energy');"
   ]
  },
  {
   "cell_type": "code",
   "execution_count": 13,
   "id": "suited-needle",
   "metadata": {},
   "outputs": [
    {
     "data": {
      "image/png": "[encoded data removed]",
      "text/plain": [
       "<Figure size 720x216 with 2 Axes>"
      ]
     },
     "metadata": {},
     "output_type": "display_data"
    }
   ],
   "source": [
    "# Calculate the degradation rate using the YoY method\n",
    "yoy_rd, yoy_ci, yoy_info = rdtools.degradation_year_on_year(\n",
    "    daily, confidence_level=68.2)\n",
    "# Note the default confidence_level of 68.2 is appropriate if you would like to\n",
    "# report a confidence interval analogous to the standard deviation of a normal\n",
    "# distribution. The size of the confidence interval is adjustable by setting the\n",
    "# confidence_level variable.\n",
    "\n",
    "# Visualize the results\n",
    "\n",
    "degradation_fig = rdtools.degradation_summary_plots(\n",
    "    yoy_rd, yoy_ci, yoy_info, daily,\n",
    "    summary_title='Sensor-based degradation results',\n",
    "    scatter_ymin=0.5, scatter_ymax=1.1,\n",
    "    hist_xmin=-30, hist_xmax=45, bins=100\n",
    ")"
   ]
  }
 ],
 "metadata": {
  "kernelspec": {
   "display_name": "Python 3",
   "language": "python",
   "name": "python3"
  },
  "language_info": {
   "codemirror_mode": {
    "name": "ipython",
    "version": 3
   },
   "file_extension": ".py",
   "mimetype": "text/x-python",
   "name": "python",
   "nbconvert_exporter": "python",
   "pygments_lexer": "ipython3",
   "version": "3.9.1"
  }
 },
 "nbformat": 4,
 "nbformat_minor": 5
}

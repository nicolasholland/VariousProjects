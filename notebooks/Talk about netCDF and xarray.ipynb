{
 "cells": [
  {
   "cell_type": "markdown",
   "metadata": {},
   "source": [
    "# netCDF and xarray"
   ]
  },
  {
   "cell_type": "markdown",
   "metadata": {},
   "source": [
    "Lets start by importing all packages, that we need."
   ]
  },
  {
   "cell_type": "code",
   "execution_count": 1,
   "metadata": {
    "collapsed": true
   },
   "outputs": [],
   "source": [
    "import numpy as np\n",
    "import pandas as pd\n",
    "import xarray as xr"
   ]
  },
  {
   "cell_type": "markdown",
   "metadata": {},
   "source": [
    "## Let's start with an example "
   ]
  },
  {
   "cell_type": "markdown",
   "metadata": {},
   "source": [
    "Assume we have a weather forecast. Our data contains forcasts of temperature and precipitation for three days at four locations. That means we have to store the data as well as the locations latiude and longitude and the time for the forecast. Since we could have multiple forecasts we also want to store the reference_time from when the forecast was made. Using pandas we can store this data in a dataframe."
   ]
  },
  {
   "cell_type": "code",
   "execution_count": 2,
   "metadata": {},
   "outputs": [
    {
     "data": {
      "text/html": [
       "<div>\n",
       "<style>\n",
       "    .dataframe thead tr:only-child th {\n",
       "        text-align: right;\n",
       "    }\n",
       "\n",
       "    .dataframe thead th {\n",
       "        text-align: left;\n",
       "    }\n",
       "\n",
       "    .dataframe tbody tr th {\n",
       "        vertical-align: top;\n",
       "    }\n",
       "</style>\n",
       "<table border=\"1\" class=\"dataframe\">\n",
       "  <thead>\n",
       "    <tr style=\"text-align: right;\">\n",
       "      <th></th>\n",
       "      <th>temperature</th>\n",
       "      <th>precipitation</th>\n",
       "      <th>lon</th>\n",
       "      <th>lat</th>\n",
       "      <th>time</th>\n",
       "      <th>reference_time</th>\n",
       "    </tr>\n",
       "  </thead>\n",
       "  <tbody>\n",
       "    <tr>\n",
       "      <th>0</th>\n",
       "      <td>9.886983</td>\n",
       "      <td>5.397835</td>\n",
       "      <td>-99.83</td>\n",
       "      <td>42.25</td>\n",
       "      <td>2014-09-06</td>\n",
       "      <td>2014-09-05</td>\n",
       "    </tr>\n",
       "    <tr>\n",
       "      <th>1</th>\n",
       "      <td>18.736250</td>\n",
       "      <td>0.319311</td>\n",
       "      <td>-99.83</td>\n",
       "      <td>42.25</td>\n",
       "      <td>2014-09-07</td>\n",
       "      <td>2014-09-05</td>\n",
       "    </tr>\n",
       "    <tr>\n",
       "      <th>2</th>\n",
       "      <td>26.933078</td>\n",
       "      <td>7.437245</td>\n",
       "      <td>-99.83</td>\n",
       "      <td>42.25</td>\n",
       "      <td>2014-09-08</td>\n",
       "      <td>2014-09-05</td>\n",
       "    </tr>\n",
       "    <tr>\n",
       "      <th>3</th>\n",
       "      <td>18.902163</td>\n",
       "      <td>3.957231</td>\n",
       "      <td>-99.32</td>\n",
       "      <td>42.21</td>\n",
       "      <td>2014-09-06</td>\n",
       "      <td>2014-09-05</td>\n",
       "    </tr>\n",
       "    <tr>\n",
       "      <th>4</th>\n",
       "      <td>6.071471</td>\n",
       "      <td>4.507137</td>\n",
       "      <td>-99.32</td>\n",
       "      <td>42.21</td>\n",
       "      <td>2014-09-07</td>\n",
       "      <td>2014-09-05</td>\n",
       "    </tr>\n",
       "    <tr>\n",
       "      <th>5</th>\n",
       "      <td>17.095652</td>\n",
       "      <td>4.904113</td>\n",
       "      <td>-99.32</td>\n",
       "      <td>42.21</td>\n",
       "      <td>2014-09-08</td>\n",
       "      <td>2014-09-05</td>\n",
       "    </tr>\n",
       "    <tr>\n",
       "      <th>6</th>\n",
       "      <td>25.689399</td>\n",
       "      <td>0.434806</td>\n",
       "      <td>-99.79</td>\n",
       "      <td>42.63</td>\n",
       "      <td>2014-09-06</td>\n",
       "      <td>2014-09-05</td>\n",
       "    </tr>\n",
       "    <tr>\n",
       "      <th>7</th>\n",
       "      <td>13.847594</td>\n",
       "      <td>3.784362</td>\n",
       "      <td>-99.79</td>\n",
       "      <td>42.63</td>\n",
       "      <td>2014-09-07</td>\n",
       "      <td>2014-09-05</td>\n",
       "    </tr>\n",
       "    <tr>\n",
       "      <th>8</th>\n",
       "      <td>21.624169</td>\n",
       "      <td>7.718258</td>\n",
       "      <td>-99.79</td>\n",
       "      <td>42.63</td>\n",
       "      <td>2014-09-08</td>\n",
       "      <td>2014-09-05</td>\n",
       "    </tr>\n",
       "    <tr>\n",
       "      <th>9</th>\n",
       "      <td>16.628470</td>\n",
       "      <td>8.883603</td>\n",
       "      <td>-99.23</td>\n",
       "      <td>42.59</td>\n",
       "      <td>2014-09-06</td>\n",
       "      <td>2014-09-05</td>\n",
       "    </tr>\n",
       "    <tr>\n",
       "      <th>10</th>\n",
       "      <td>15.164471</td>\n",
       "      <td>8.008439</td>\n",
       "      <td>-99.23</td>\n",
       "      <td>42.59</td>\n",
       "      <td>2014-09-07</td>\n",
       "      <td>2014-09-05</td>\n",
       "    </tr>\n",
       "    <tr>\n",
       "      <th>11</th>\n",
       "      <td>22.802115</td>\n",
       "      <td>7.032969</td>\n",
       "      <td>-99.23</td>\n",
       "      <td>42.59</td>\n",
       "      <td>2014-09-08</td>\n",
       "      <td>2014-09-05</td>\n",
       "    </tr>\n",
       "  </tbody>\n",
       "</table>\n",
       "</div>"
      ],
      "text/plain": [
       "    temperature  precipitation    lon    lat       time reference_time\n",
       "0      9.886983       5.397835 -99.83  42.25 2014-09-06     2014-09-05\n",
       "1     18.736250       0.319311 -99.83  42.25 2014-09-07     2014-09-05\n",
       "2     26.933078       7.437245 -99.83  42.25 2014-09-08     2014-09-05\n",
       "3     18.902163       3.957231 -99.32  42.21 2014-09-06     2014-09-05\n",
       "4      6.071471       4.507137 -99.32  42.21 2014-09-07     2014-09-05\n",
       "5     17.095652       4.904113 -99.32  42.21 2014-09-08     2014-09-05\n",
       "6     25.689399       0.434806 -99.79  42.63 2014-09-06     2014-09-05\n",
       "7     13.847594       3.784362 -99.79  42.63 2014-09-07     2014-09-05\n",
       "8     21.624169       7.718258 -99.79  42.63 2014-09-08     2014-09-05\n",
       "9     16.628470       8.883603 -99.23  42.59 2014-09-06     2014-09-05\n",
       "10    15.164471       8.008439 -99.23  42.59 2014-09-07     2014-09-05\n",
       "11    22.802115       7.032969 -99.23  42.59 2014-09-08     2014-09-05"
      ]
     },
     "execution_count": 2,
     "metadata": {},
     "output_type": "execute_result"
    }
   ],
   "source": [
    "df = pd.DataFrame()\n",
    "df['temperature'] = 15 + 8 * np.random.randn(12)\n",
    "df['precipitation'] = 10 * np.random.rand(12)\n",
    "df['lon'] = np.array([-99.83, -99.83, -99.83, -99.32, -99.32, -99.32, -99.79, -99.79, -99.79, -99.23, -99.23, -99.23])\n",
    "df['lat'] = np.array([42.25, 42.25, 42.25, 42.21, 42.21, 42.21, 42.63, 42.63, 42.63, 42.59, 42.59, 42.59])\n",
    "df['time'] = np.array([pd.date_range('2014-09-06', periods=3)] * 4).reshape(12)\n",
    "df['reference_time'] = np.array([pd.Timestamp('2014-09-05')] * 12)\n",
    "df"
   ]
  },
  {
   "cell_type": "markdown",
   "metadata": {},
   "source": [
    "In this dataframe we have a generic index and six columns. We could also store the data with just two columns for temperature and precipitation and have a four column multiindex. Maybe we want to slice the data or apply functions along the time or space axis. Then it would be helpful if we hadn't stored the data tabular but in a N-dimensional array. This is a case where we can use netCDF!"
   ]
  },
  {
   "cell_type": "markdown",
   "metadata": {},
   "source": [
    "## What is netCDF"
   ]
  },
  {
   "cell_type": "markdown",
   "metadata": {},
   "source": [
    "NetCDF is a self-describing, machine-independent data format. Self-describing means, that all information regarding the data, eg. metadata, labels, units are also stored in the file. It is developed by Unidata and there are software libraries in many languages to interact with netCDF files.\n",
    "\n",
    "The commen data format (CDF) was originally developed by Nasa and netCDF is build upon it. Data is stored in variables, dimensions and attributes.\n",
    "Variables are N-dimensional arrays that store the actual data.\n",
    "Dimensions are used to label the N-dim arrays.\n",
    "Attributes are used to store additional information about the data.\n",
    "\n",
    "NetCDF-4 introduced the enhanced data model. \n",
    "It allows you to store groups of data within one file and added HDF5 support for netCDF.\n",
    "Before netCDF-4 you could only have one unlimited dimension, which is a dimension where you don't have to specify the size. Since netCDF-4 you can have multiple unlimited dimensions.\n",
    "\n",
    "Our example from before can now be stored like this:"
   ]
  },
  {
   "cell_type": "markdown",
   "metadata": {},
   "source": [
    "<img src=\"http://xarray.pydata.org/en/stable/_images/dataset-diagram.png\", width=800, height=60>"
   ]
  },
  {
   "cell_type": "code",
   "execution_count": 3,
   "metadata": {},
   "outputs": [
    {
     "data": {
      "text/plain": [
       "<xarray.Dataset>\n",
       "Dimensions:         (time: 3, x: 2, y: 2)\n",
       "Coordinates:\n",
       "    lon             (x, y) float64 -99.83 -99.32 -99.79 -99.23\n",
       "    lat             (x, y) float64 42.25 42.21 42.63 42.59\n",
       "  * time            (time) datetime64[ns] 2014-09-06 2014-09-07 2014-09-08\n",
       "    reference_time  datetime64[ns] 2014-09-05\n",
       "Dimensions without coordinates: x, y\n",
       "Data variables:\n",
       "    temperature     (x, y, time) float64 20.15 14.46 3.847 16.26 9.526 22.48 ...\n",
       "    precipitation   (x, y, time) float64 5.0 2.887 7.085 2.596 8.827 2.864 ...\n",
       "Attributes:\n",
       "    units:    Celsius, l/m²"
      ]
     },
     "execution_count": 3,
     "metadata": {},
     "output_type": "execute_result"
    }
   ],
   "source": [
    "temp = 15 + 8 * np.random.randn(2, 2, 3)\n",
    "\n",
    "precip = 10 * np.random.rand(2, 2, 3)\n",
    "\n",
    "lon = [[-99.83, -99.32], [-99.79, -99.23]]\n",
    "\n",
    "lat = [[42.25, 42.21], [42.63, 42.59]]\n",
    "\n",
    "ds = xr.Dataset({'temperature': (['x', 'y', 'time'],  temp),\n",
    "                 'precipitation': (['x', 'y', 'time'], precip)},\n",
    "                 coords={'lon': (['x', 'y'], lon),\n",
    "                         'lat': (['x', 'y'], lat),\n",
    "                         'time': pd.date_range('2014-09-06', periods=3),\n",
    "                         'reference_time': pd.Timestamp('2014-09-05')},\n",
    "                 attrs={'units': 'Celsius, l/m²'})\n",
    "ds"
   ]
  },
  {
   "cell_type": "markdown",
   "metadata": {},
   "source": [
    "NetCDF is a file format to store data in. In order to work with netCDF we need software that can interact with it. For our example we used xarray."
   ]
  },
  {
   "cell_type": "markdown",
   "metadata": {},
   "source": [
    "## What is xarray"
   ]
  },
  {
   "cell_type": "markdown",
   "metadata": {
    "collapsed": true
   },
   "source": [
    "Xarray is an open source python package that aspires to be the 'pandas for N-dim arrays'. There are many similarities between xarray and pandas or numpy and there are apis that allow you to convert data from one to the other. Xarray uses the netCDF data model, so you can think of xarray as an 'in-memory' equivalent of netCDF. That makes it a perfect choice for working with netCDF. \n",
    "\n",
    "Xarray consists of two data structures, data arrays and data sets."
   ]
  },
  {
   "cell_type": "markdown",
   "metadata": {},
   "source": [
    "### DataArray"
   ]
  },
  {
   "cell_type": "markdown",
   "metadata": {
    "collapsed": true
   },
   "source": [
    "Data arrays are multidimensional labeled arrays. A data array consists of:\n",
    "\n",
    "* values: a numpy.ndarray holding the array’s values\n",
    "* dims: dimension names for each axis (e.g., ('x', 'y', 'z'))\n",
    "* coords: a dict-like container of arrays (coordinates) that label each point \n",
    "* attrs: an OrderedDict to hold arbitrary metadata (attributes)\n",
    "\n",
    "Here is an example of a data array that holds 96 labeled values over one day at three german cities:\n"
   ]
  },
  {
   "cell_type": "code",
   "execution_count": 4,
   "metadata": {},
   "outputs": [
    {
     "data": {
      "text/plain": [
       "<xarray.DataArray (time: 96, space: 3)>\n",
       "array([[ 0.548175,  0.614043,  0.964418],\n",
       "       [ 0.376261,  0.224052,  0.215249],\n",
       "       [ 0.148024,  0.145431,  0.37637 ],\n",
       "       ..., \n",
       "       [ 0.274927,  0.885318,  0.443139],\n",
       "       [ 0.262893,  0.850894,  0.062152],\n",
       "       [ 0.223332,  0.142055,  0.377829]])\n",
       "Coordinates:\n",
       "  * time     (time) datetime64[ns] 2000-01-01 2000-01-01T00:15:00 ...\n",
       "  * space    (space) <U9 'Freiburg' 'Oldenburg' 'Karlsruhe'"
      ]
     },
     "execution_count": 4,
     "metadata": {},
     "output_type": "execute_result"
    }
   ],
   "source": [
    "data = np.random.rand(96, 3)\n",
    "\n",
    "locs = ['Freiburg', 'Oldenburg', 'Karlsruhe']\n",
    "\n",
    "times = pd.date_range('2000-01-01', periods=96, freq='15Min')\n",
    "\n",
    "data = xr.DataArray(data, coords=[times, locs], dims=['time', 'space'])\n",
    "data"
   ]
  },
  {
   "cell_type": "markdown",
   "metadata": {},
   "source": [
    "### Dataset"
   ]
  },
  {
   "cell_type": "markdown",
   "metadata": {
    "collapsed": true
   },
   "source": [
    "If you think of data arrays as N-dim pandas series, than a xarray dataset is the equivalent of a pandas dataframe in that it stores several data arrays as variables that share the same dimensions.\n",
    "\n",
    "There are several ways of accesing the data similar to pandas and numpy:"
   ]
  },
  {
   "cell_type": "code",
   "execution_count": null,
   "metadata": {
    "collapsed": true
   },
   "outputs": [],
   "source": [
    "# numpy style\n",
    "ds.temperature[1, 1, :]\n",
    "\n",
    "# pandas style\n",
    "ds.temperature.loc[:, :, '2014-09-07']\n",
    "\n",
    "# xarray style\n",
    "ds.sel(x = 1, y = 1, time='2014-09-07')"
   ]
  },
  {
   "cell_type": "markdown",
   "metadata": {},
   "source": [
    "One more thing I want to mention about datasets is xarrays handling of datasets that are too large to fit in your memory."
   ]
  },
  {
   "cell_type": "markdown",
   "metadata": {},
   "source": [
    "### Datasets that are too large to fit in memory"
   ]
  },
  {
   "cell_type": "markdown",
   "metadata": {},
   "source": [
    "Multidimensional data often comes in datasets that are too large to fit into memory. That can mean several gigabyte as well as terabytes of data. Xarray has been extended to use dask for parallel processing and out of memory computation. Dask divides arrays into many small pieces, called chunks, each of which is presumed to be small enough to fit into memory. Most of xarrays operations can be applied on dask arrays, which makes it easy to work with it. There are multiple ways of using xarray with dask:"
   ]
  },
  {
   "cell_type": "code",
   "execution_count": null,
   "metadata": {
    "collapsed": true
   },
   "outputs": [],
   "source": [
    "# open dataset while specify dask chunks.\n",
    "ds = xr.open_dataset('example-data.nc', chunks={'time': 10})\n",
    "\n",
    "# opens multiple netCDF files at once, each file is per default chunked into a dask array.\n",
    "xr.open_mfdataset('my/files/*.nc')"
   ]
  }
 ],
 "metadata": {
  "kernelspec": {
   "display_name": "Python 3",
   "language": "python",
   "name": "python3"
  },
  "language_info": {
   "codemirror_mode": {
    "name": "ipython",
    "version": 3
   },
   "file_extension": ".py",
   "mimetype": "text/x-python",
   "name": "python",
   "nbconvert_exporter": "python",
   "pygments_lexer": "ipython3",
   "version": "3.6.1"
  }
 },
 "nbformat": 4,
 "nbformat_minor": 2
}

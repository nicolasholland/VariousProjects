{
 "cells": [
  {
   "cell_type": "markdown",
   "id": "macro-company",
   "metadata": {},
   "source": [
    "# Scenario 1\n",
    "\n",
    "Assume there are 5 parties that plan to found and invest into a company. There are two phases, a founding phase in which each party pays a small amount to create an initial set of shares and an investment phase.\n",
    "Assume that \n",
    "* 3 of the 5 parties must see their shares dilute\n",
    "* and the other 2 parties want to make investments, ie they get new shares.\n",
    "\n",
    "In this example we set up a generic process that takes share distributions in the initial phase $t_0$ and the investment phase $t_1$ and computes the amount of shares that need to be generated.\n",
    "\n",
    "Assume the initial phase generates 25,000 shares and the investment phase generates additionally $N$ shares:\n",
    "\n",
    "$$\n",
    "\\begin{align}\n",
    "A(t_0) &= 25,000\\\\\n",
    "A(t_1) &= A(t_0) + N\n",
    "\\end{align}\n",
    "$$\n",
    "\n",
    "Let's assume the initial share distribution is this, with $p_{1,2,3}$ being the 3 diluting parties:\n",
    "\n",
    "$$\n",
    "\\begin{align}\n",
    "p_{i\\in\\{1,2,3\\},t_0} &= 25\\%\\\\\n",
    "p_{4,t_0} &= 15\\%\\\\\n",
    "p_{5,t_0} &= 10\\%\n",
    "\\end{align}\n",
    "$$\n",
    "\n",
    "And the desired share distribution after the investment phase is.\n",
    "\n",
    "$$\n",
    "\\begin{align}\n",
    "p_{i\\in\\{1,2,3\\},t_1} &= 20\\%\\\\\n",
    "p_{4,t_1} &= 25\\%\\\\\n",
    "p_{5,t_1} &= 15\\%\n",
    "\\end{align}\n",
    "$$\n",
    "\n",
    "Assuming that $p_{1,2,3}$ do not get new shares in the investment phase and only see their initial shares dilute, we can now calculate how much new shares $N$ must be generated."
   ]
  },
  {
   "cell_type": "code",
   "execution_count": 12,
   "id": "concrete-hebrew",
   "metadata": {},
   "outputs": [
    {
     "name": "stdout",
     "output_type": "stream",
     "text": [
      "There are 6250.0 new shares in the investment phase.\n"
     ]
    }
   ],
   "source": [
    "A_t0 = 25000\n",
    "\n",
    "pi_t0 = 0.25\n",
    "p4_t0 = 0.10\n",
    "p5_t0 = 0.15\n",
    "\n",
    "pi_t1 = 0.2\n",
    "p4_t1 = 0.25\n",
    "p5_t1 = 0.15\n",
    "\n",
    "N = (pi_t0 * A_t0 - pi_t1 * A_t0) / pi_t1\n",
    "\n",
    "print(\"There are %.1f new shares in the investment phase.\" % N)"
   ]
  },
  {
   "cell_type": "markdown",
   "id": "neural-vietnam",
   "metadata": {},
   "source": [
    "After knowing how much new shares are generated, we can compute how many of those new shares go to the investors $p_4$ and $p_5$:"
   ]
  },
  {
   "cell_type": "code",
   "execution_count": 15,
   "id": "organizational-bundle",
   "metadata": {},
   "outputs": [
    {
     "name": "stdout",
     "output_type": "stream",
     "text": [
      "p4 is getting 5312.5 new shares, their new total is 7812.5\n",
      "p5 is getting 937.5 new shares, their new total is 4687.5\n"
     ]
    }
   ],
   "source": [
    "A_t1 = A_t0 + N\n",
    "\n",
    "print(\"p4 is getting %.1f new shares, their new total is %.1f\" %(\n",
    "p4_t1 * (A_t1) - p4_t0 * (A_t0), p4_t1 * (A_t1)))\n",
    "\n",
    "print(\"p5 is getting %.1f new shares, their new total is %.1f\" %(\n",
    "p5_t1 * (A_t1) - p5_t0 * (A_t0), p5_t1 * (A_t1)))"
   ]
  }
 ],
 "metadata": {
  "kernelspec": {
   "display_name": "Python 3",
   "language": "python",
   "name": "python3"
  },
  "language_info": {
   "codemirror_mode": {
    "name": "ipython",
    "version": 3
   },
   "file_extension": ".py",
   "mimetype": "text/x-python",
   "name": "python",
   "nbconvert_exporter": "python",
   "pygments_lexer": "ipython3",
   "version": "3.9.1"
  }
 },
 "nbformat": 4,
 "nbformat_minor": 5
}
